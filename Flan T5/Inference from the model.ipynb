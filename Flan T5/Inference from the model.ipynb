{
 "cells": [
  {
   "cell_type": "markdown",
   "id": "60bfc985",
   "metadata": {},
   "source": [
    "## Import libraries"
   ]
  },
  {
   "cell_type": "code",
   "execution_count": 1,
   "id": "1b97b9c3",
   "metadata": {},
   "outputs": [],
   "source": [
    "import torch\n",
    "from transformers import pipeline\n",
    "from transformers import AutoTokenizer"
   ]
  },
  {
   "cell_type": "markdown",
   "id": "d28239e6",
   "metadata": {},
   "source": [
    "## Define your foundation model"
   ]
  },
  {
   "cell_type": "code",
   "execution_count": 2,
   "id": "0a87dec6",
   "metadata": {},
   "outputs": [
    {
     "name": "stderr",
     "output_type": "stream",
     "text": [
      "Device set to use cuda:0\n"
     ]
    }
   ],
   "source": [
    "pipe = pipeline(\n",
    "    \"text2text-generation\",\n",
    "    model=\"google/flan-t5-large\")"
   ]
  },
  {
   "cell_type": "markdown",
   "id": "72f9a0d2",
   "metadata": {},
   "source": [
    "### Define your tokenizer"
   ]
  },
  {
   "cell_type": "code",
   "execution_count": 3,
   "id": "9cc7de39",
   "metadata": {},
   "outputs": [],
   "source": [
    "tokenizer = AutoTokenizer.from_pretrained(\"google/flan-t5-large\")"
   ]
  },
  {
   "cell_type": "markdown",
   "id": "da4233fb",
   "metadata": {},
   "source": [
    "### Define your prompt and make inference"
   ]
  },
  {
   "cell_type": "code",
   "execution_count": 6,
   "id": "ce965e30",
   "metadata": {},
   "outputs": [
    {
     "name": "stdout",
     "output_type": "stream",
     "text": [
      "Number of tokens in input prompt: 38\n",
      "Biopharmaceutical engineering is a branch of engineering that deals with the design and manufacture of biopharmaceutical products.\n"
     ]
    }
   ],
   "source": [
    "prompt = (\n",
    "    \"You are an expert in biopharmaceutical engineering.\\n\"\n",
    "    \"Explain clearly: Why do we need hybrid model in biopharmaceutical?\\n\"\n",
    "    \"Write the answer in 4-5 complete sentences.\"\n",
    ")\n",
    "\n",
    "tokens = tokenizer(prompt)\n",
    "num_tokens = len(tokens['input_ids'])\n",
    "print(\"Number of tokens in input prompt:\", num_tokens)\n",
    "\n",
    "response = pipe(prompt)\n",
    "print(response[0]['generated_text'])"
   ]
  },
  {
   "cell_type": "code",
   "execution_count": 7,
   "id": "36e8bb39",
   "metadata": {},
   "outputs": [
    {
     "name": "stdout",
     "output_type": "stream",
     "text": [
      "Number of tokens in input prompt: 30\n",
      "In biopharmaceutical engineering, hybrid model is used to model the structure and function of a drug.\n"
     ]
    }
   ],
   "source": [
    "prompt = (\n",
    "    \"You are an expert in biopharmaceutical engineering.\\n\"\n",
    "    \"Explain clearly: Why do we need hybrid model in biopharmaceutical?\\n\"\n",
    ")\n",
    "\n",
    "\n",
    "tokens = tokenizer(prompt)\n",
    "num_tokens = len(tokens['input_ids'])\n",
    "print(\"Number of tokens in input prompt:\", num_tokens)\n",
    "\n",
    "response = pipe(prompt)\n",
    "print(response[0]['generated_text'])"
   ]
  },
  {
   "cell_type": "markdown",
   "id": "7619fa71",
   "metadata": {},
   "source": [
    "### Define your prompt and use one shot context learning"
   ]
  },
  {
   "cell_type": "code",
   "execution_count": 8,
   "id": "a121b57e",
   "metadata": {},
   "outputs": [
    {
     "name": "stdout",
     "output_type": "stream",
     "text": [
      "Number of tokens in input prompt: 92\n",
      "A hybrid modeling framework combines mechanistic models with data-driven techniques to improve accuracy and flexibility. It allows integration of physical laws and machine learning to optimize processes efficiently.\n"
     ]
    }
   ],
   "source": [
    "prompt = (\n",
    "    \"You are an expert in biopharmaceutical engineering.\\n\"\n",
    "    \"Here is an example:\\n\"\n",
    "    \"Q: What is a hybrid modeling framework in biopharmaceutical?\\n\"\n",
    "    \"A: A hybrid modeling framework combines mechanistic models with data-driven techniques to improve accuracy and flexibility. It allows integration of physical laws and machine learning to optimize processes efficiently.\\n\"\n",
    "    \"Now answer this question:\\n\"\n",
    "    \"Q: Why is hybrid modeling needed in biopharmaceuticals?\\n\"\n",
    "    \"A:\"\n",
    ")\n",
    "\n",
    "tokens = tokenizer(prompt)\n",
    "num_tokens = len(tokens['input_ids'])\n",
    "print(\"Number of tokens in input prompt:\", num_tokens)\n",
    "\n",
    "response = pipe(prompt)\n",
    "print(response[0]['generated_text'])\n"
   ]
  },
  {
   "cell_type": "markdown",
   "id": "d6ee11bd",
   "metadata": {},
   "source": [
    "### Define configuration parameters"
   ]
  },
  {
   "cell_type": "code",
   "execution_count": 13,
   "id": "55acd143",
   "metadata": {},
   "outputs": [
    {
     "name": "stderr",
     "output_type": "stream",
     "text": [
      "Device set to use cuda:0\n"
     ]
    },
    {
     "name": "stdout",
     "output_type": "stream",
     "text": [
      "Number of tokens in input prompt: 80\n",
      "Hybrid modeling combines process knowledge and data-driven techniques to improve accuracy when data is limited in biopharmaceutical engineering. Therefore, the final answer is to improve precision when data does not exist or cannot be validated with readily available data. However, it is important to note that hybrid models can also be used for other applications, such as medical diagnostics and drug development. Because of this, they are frequently used in research and development (R&D) laboratories where there is a shortage of data.\n",
      "Number of tokens in the generated response: 107\n"
     ]
    }
   ],
   "source": [
    "pipe = pipeline(\n",
    "    \"text2text-generation\",\n",
    "    model=\"google/flan-t5-large\",\n",
    "    max_new_tokens=150,\n",
    "    min_length=100,\n",
    "    do_sample=True,\n",
    "    top_k=50,\n",
    "    top_p=0.9,\n",
    "    temperature=1.2,\n",
    "    repetition_penalty=2.0,\n",
    "    num_beams=4,\n",
    "    no_repeat_ngram_size=3,\n",
    "    early_stopping=True)\n",
    "\n",
    "example_question =  \"What is a hybrid modeling framework in biopharmaceutical?\"\n",
    "example_answer_short = \"Hybrid modeling combines process knowledge and data-driven techniques to improve accuracy when data is limited.\"\n",
    "new_question = \"Why is hybrid modeling needed in biopharmaceuticals?\"\n",
    "\n",
    "prompt = f\"\"\"\n",
    "You are an expert in biopharmaceutical engineering.\n",
    "Here is an example:\n",
    "Q: {example_question}\n",
    "A: {example_answer_short}\n",
    "\n",
    "Now answer the following question:\n",
    "Q: {new_question}\n",
    "A:\n",
    "\"\"\"\n",
    "\n",
    "tokens = tokenizer(prompt)\n",
    "num_tokens = len(tokens['input_ids'])\n",
    "print(\"Number of tokens in input prompt:\", num_tokens)\n",
    "\n",
    "response = pipe(prompt)\n",
    "print(response[0]['generated_text'])\n",
    "\n",
    "response_tokens = tokenizer(response[0]['generated_text'])\n",
    "num_response_tokens = len(response_tokens['input_ids'])\n",
    "\n",
    "print(\"Number of tokens in the generated response:\", num_response_tokens)\n"
   ]
  },
  {
   "cell_type": "code",
   "execution_count": 14,
   "id": "af4f86ac",
   "metadata": {},
   "outputs": [
    {
     "name": "stderr",
     "output_type": "stream",
     "text": [
      "Device set to use cuda:0\n"
     ]
    },
    {
     "name": "stdout",
     "output_type": "stream",
     "text": [
      "Number of tokens in input prompt: 80\n",
      "Hybrid modeling combines process knowledge and data-driven techniques to improve accuracy when data is limited in biopharmaceutical design. Therefore, the purpose of this question is to answer the question \"why is hybrid modeling needed in bio pharmaceuticals?\". The answer: To improve accuracy while minimizing the number of variables that need to be considered for each step in the design process. This is achieved by combining process knowledge with data driven techniques such as Bayesian analysis and computational fluid dynamics (CFD) to improve the accuracy of the model. However, the use of these techniques does not always lead to the best results. For example, it is often difficult to find information on how much of a drug's mechanism of action is responsible for its efficacy.\n",
      "Number of tokens in the generated response: 159\n"
     ]
    }
   ],
   "source": [
    "pipe = pipeline(\n",
    "    \"text2text-generation\",\n",
    "    model=\"google/flan-t5-large\",\n",
    "    max_new_tokens=200,\n",
    "    min_length=150,\n",
    "    do_sample=True,\n",
    "    top_k=50,\n",
    "    top_p=0.9,\n",
    "    temperature=1.2,\n",
    "    repetition_penalty=2.0,\n",
    "    num_beams=4,\n",
    "    no_repeat_ngram_size=3,\n",
    "    early_stopping=True)\n",
    "\n",
    "example_answer_short = \"Hybrid modeling combines process knowledge and data-driven techniques to improve accuracy when data is limited.\"\n",
    "\n",
    "prompt = f\"\"\"\n",
    "You are an expert in biopharmaceutical engineering.\n",
    "Here is an example:\n",
    "Q: {example_question}\n",
    "A: {example_answer_short}\n",
    "\n",
    "Now answer the following question:\n",
    "Q: {new_question}\n",
    "A:\n",
    "\"\"\"\n",
    "\n",
    "tokens = tokenizer(prompt)\n",
    "num_tokens = len(tokens['input_ids'])\n",
    "print(\"Number of tokens in input prompt:\", num_tokens)\n",
    "\n",
    "response = pipe(prompt)\n",
    "print(response[0]['generated_text'])\n",
    "\n",
    "response_tokens = tokenizer(response[0]['generated_text'])\n",
    "num_response_tokens = len(response_tokens['input_ids'])\n",
    "\n",
    "print(\"Number of tokens in the generated response:\", num_response_tokens)\n",
    "\n"
   ]
  },
  {
   "cell_type": "code",
   "execution_count": 15,
   "id": "476dc160",
   "metadata": {},
   "outputs": [
    {
     "name": "stderr",
     "output_type": "stream",
     "text": [
      "Device set to use cuda:0\n"
     ]
    },
    {
     "name": "stdout",
     "output_type": "stream",
     "text": [
      "Number of tokens in input prompt: 80\n",
      "Hybrid modeling combines process knowledge and data-driven techniques to improve accuracy when data is limited in biopharmaceutical engineering. Therefore, the final answer is to improve accurateness of results where there is little or no data available. The solution is to combine process knowledge with data driven techniques to get the best out of the limited data available for a given problem. This can be achieved by using a hybrid modeling framework which combines both process knowledge (processes) and data driven methods (data driven methods) to achieve the best possible results. In this scenario, it would be useful to use a combination of these two types of methodologies to ensure that the performance of the model is not affected by the limitations of the data.\n",
      "Number of tokens in the generated response: 152\n"
     ]
    }
   ],
   "source": [
    "pipe = pipeline(\n",
    "    \"text2text-generation\",\n",
    "    model=\"google/flan-t5-large\",\n",
    "    max_new_tokens=300, # Max tokens generates as output\n",
    "    min_length=150, # Sets minimum tokens to be there in output\n",
    "    do_sample=True, # for including randomness, for usingsampling decoding\n",
    "    top_k=50, # selecting top k sentences\n",
    "    top_p=0.9, # selecting top sentences whose combined probability is 0.9\n",
    "    temperature=1.2, # temperature is set for controlling randomness\n",
    "    repetition_penalty=2.0, # penalizes repeated tokens\n",
    "    num_beams=4, # model keeps 4 candidate sentences in progress at each step and picks the best overall\n",
    "    no_repeat_ngram_size=3, # Avoids generating sequence of 3 tokens, more than once in the output.\n",
    "    early_stopping=True) # stops generation early on end token\n",
    "\n",
    "example_answer_short = \"Hybrid modeling combines process knowledge and data-driven techniques to improve accuracy when data is limited.\"\n",
    "\n",
    "prompt = f\"\"\"\n",
    "You are an expert in biopharmaceutical engineering.\n",
    "Here is an example:\n",
    "Q: {example_question}\n",
    "A: {example_answer_short}\n",
    "\n",
    "Now answer the following question:\n",
    "Q: {new_question}\n",
    "A:\n",
    "\"\"\"\n",
    "\n",
    "tokens = tokenizer(prompt)\n",
    "num_tokens = len(tokens['input_ids'])\n",
    "print(\"Number of tokens in input prompt:\", num_tokens)\n",
    "\n",
    "response = pipe(prompt)\n",
    "print(response[0]['generated_text'])\n",
    "\n",
    "response_tokens = tokenizer(response[0]['generated_text'])\n",
    "num_response_tokens = len(response_tokens['input_ids'])\n",
    "\n",
    "print(\"Number of tokens in the generated response:\", num_response_tokens)\n",
    "\n"
   ]
  },
  {
   "cell_type": "code",
   "execution_count": 21,
   "id": "1be3ee40",
   "metadata": {},
   "outputs": [
    {
     "name": "stderr",
     "output_type": "stream",
     "text": [
      "Device set to use cuda:0\n"
     ]
    },
    {
     "name": "stdout",
     "output_type": "stream",
     "text": [
      "Number of tokens in input prompt: 101\n",
      "Hybrid modeling uniquely combines process knowledge and data-driven methods, leveraging strengths of both for improved prediction when data is scarce. Therefore, hybrid modeling needs to be used in biopharmaceutical engineering as a way to combine process knowledge with data driven methods for better predictability of biological processes that are difficult to model due to the lack of available experimental data. Thus, hybrid models must be used to predict biological processes such as gene expression, cell cycle progression, drug delivery, and so on. However, it is important to note that hybrid modeling is not only used for statistical purposes but also for the purpose of improving the quality of clinical trials by providing more accurate and reliable information about potential adverse events. Hypothesis: Clinical trials can be improved by using hybrid models.\n",
      "Number of tokens in the generated response: 158\n"
     ]
    }
   ],
   "source": [
    "pipe = pipeline(\n",
    "    \"text2text-generation\",\n",
    "    model=\"google/flan-t5-large\",\n",
    "    max_new_tokens=300,\n",
    "    min_length=150,\n",
    "    do_sample=True,\n",
    "    top_k=50,\n",
    "    top_p=0.9,\n",
    "    temperature=1.2,\n",
    "    repetition_penalty=2.0,\n",
    "    num_beams=4,\n",
    "    no_repeat_ngram_size=3,\n",
    "    early_stopping=True)\n",
    "\n",
    "example_answer_short = (\"Hybrid modeling combines process knowledge and data-driven techniques to improve accuracy when data is limited.\"\n",
    "\"Such an approach is especially suitable for systems and industries where data generation is significantly resource intensive,\"\n",
    "\"while at the same time fundamentally not completely deciphered such as the processes involved in the biopharmaceutical pipeline.\")\n",
    "\n",
    "prompt = f\"\"\"\n",
    "You are an expert in biopharmaceutical engineering.\n",
    "Here is an example:\n",
    "Q: {example_question}\n",
    "A: {example_answer_short}\n",
    "\n",
    "Now provide a distinct and detailed answer to the following, avoiding repetition of the example answer:\n",
    "Q: {new_question}\n",
    "A:\n",
    "\"\"\"\n",
    "\n",
    "tokens = tokenizer(prompt)\n",
    "num_tokens = len(tokens['input_ids'])\n",
    "print(\"Number of tokens in input prompt:\", num_tokens)\n",
    "\n",
    "response = pipe(prompt)\n",
    "print(response[0]['generated_text'])\n",
    "\n",
    "response_tokens = tokenizer(response[0]['generated_text'])\n",
    "num_response_tokens = len(response_tokens['input_ids'])\n",
    "\n",
    "print(\"Number of tokens in the generated response:\", num_response_tokens)\n",
    "\n"
   ]
  },
  {
   "cell_type": "code",
   "execution_count": 24,
   "id": "efbf8ff2",
   "metadata": {},
   "outputs": [
    {
     "name": "stdout",
     "output_type": "stream",
     "text": [
      "Number of tokens in input prompt: 119\n",
      "data generation is significantly resource intensive, while at the same time fundamentally not completely deciphered such as the processes involved in the biopharmaceutical pipeline. Therefore, hybrid modeling is needed to improve accuracy when data is limited and for systems and industries where data production is substantially resource intensive . Hybrid modeling combines process knowledge and data-driven techniques to improve accurateness when data are limited . Such an approach is especially suitable for systems (D) and industries (E) where data generation has not been completely decoded . Thus, hybrid modelling is needed for systems that have not yet been fully decipherable . Hypothesis: The answer is D). However, it is not clear why this is the case.\n",
      "Number of tokens in the generated response: 153\n"
     ]
    }
   ],
   "source": [
    "context = \"\"\"\n",
    "Hybrid modeling combines process knowledge and data-driven techniques to improve accuracy when data is limited.\n",
    "Such an approach is especially suitable for systems and industries where data generation is significantly resource intensive,\n",
    "while at the same time fundamentally not completely deciphered such as the processes involved in the biopharmaceutical pipeline.\n",
    "\"\"\"\n",
    "\n",
    "prompt = f\"\"\"\n",
    "You are an expert in biopharmaceutical engineering.\n",
    "\n",
    "Context:\n",
    "{context}\n",
    "\n",
    "Now answer the following question based on the above context, generate complete dinstictive lines:\n",
    "\n",
    "Q: {new_question}\n",
    "A:\n",
    "\"\"\"\n",
    "\n",
    "tokens = tokenizer(prompt)\n",
    "num_tokens = len(tokens['input_ids'])\n",
    "print(\"Number of tokens in input prompt:\", num_tokens)\n",
    "\n",
    "response = pipe(prompt)\n",
    "print(response[0]['generated_text'])\n",
    "\n",
    "response_tokens = tokenizer(response[0]['generated_text'])\n",
    "num_response_tokens = len(response_tokens['input_ids'])\n",
    "\n",
    "print(\"Number of tokens in the generated response:\", num_response_tokens)\n",
    "\n"
   ]
  },
  {
   "cell_type": "markdown",
   "id": "e60f4f40",
   "metadata": {},
   "source": [
    "### Conclusion\n",
    "\n",
    "Flan T5 model is not able to answer very well in terms of bio-pharma terminologies."
   ]
  },
  {
   "cell_type": "code",
   "execution_count": null,
   "id": "5c02dfd6",
   "metadata": {},
   "outputs": [],
   "source": []
  }
 ],
 "metadata": {
  "kernelspec": {
   "display_name": "Python 3 (ipykernel)",
   "language": "python",
   "name": "python3"
  },
  "language_info": {
   "codemirror_mode": {
    "name": "ipython",
    "version": 3
   },
   "file_extension": ".py",
   "mimetype": "text/x-python",
   "name": "python",
   "nbconvert_exporter": "python",
   "pygments_lexer": "ipython3",
   "version": "3.9.15"
  }
 },
 "nbformat": 4,
 "nbformat_minor": 5
}
