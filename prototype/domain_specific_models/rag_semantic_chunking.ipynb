{
 "cells": [
  {
   "cell_type": "code",
   "execution_count": 38,
   "id": "fec99a8c",
   "metadata": {},
   "outputs": [],
   "source": [
    "from langchain_experimental.text_splitter import SemanticChunker\n",
    "from langchain.text_splitter import RecursiveCharacterTextSplitter\n",
    "from langchain_huggingface import HuggingFaceEmbeddings\n",
    "from langchain_community.vectorstores import FAISS"
   ]
  },
  {
   "cell_type": "code",
   "execution_count": 2,
   "id": "e19fa22e",
   "metadata": {},
   "outputs": [],
   "source": [
    "embedding = HuggingFaceEmbeddings(\n",
    "    model_name=\"NeuML/pubmedbert-base-embeddings\"\n",
    ")"
   ]
  },
  {
   "cell_type": "code",
   "execution_count": 3,
   "id": "547206ad",
   "metadata": {},
   "outputs": [],
   "source": [
    "# Create semantic chunker\n",
    "chunker = SemanticChunker(embedding, breakpoint_threshold_type=\"percentile\")"
   ]
  },
  {
   "cell_type": "code",
   "execution_count": 4,
   "id": "53ec5f2b",
   "metadata": {},
   "outputs": [],
   "source": [
    "text = \"\"\"\n",
    "Process models are mathematical formulations (essentially a set of equations) that\n",
    "try to represent the real system/process in a digital or virtual form. These are\n",
    "derived either based on fundamental physical laws often combined with empirical\n",
    "assumptions or learned based on data. The former has been existing for several\n",
    "decades in chemical and process engineering while the latter has recently\n",
    "received a lot of attention with the emergence of several artificial intelligence/\n",
    "machine learning techniques. Hybrid modeling is an emerging modeling paradigm\n",
    "that explores the synergy between existing these two paradigms, taking advantage\n",
    "of the existing process knowledge (or engineering know-how) and information\n",
    "disseminated by the collected data. Such an approach is especially suitable for\n",
    "systems and industries where data generation is significantly resource intensive\n",
    "while at the same time fundamentally not completely deciphered such as the\n",
    "processes involved in the biopharmaceutical pipeline. This technology could, in\n",
    "fact, be the enabler to meeting the demands and goals of several initiatives such as\n",
    "Quality by design, Process Analytical tools, and Pharma 4.0. In addition, it can aid in\n",
    "different process applications throughout process development and Chemistry,\n",
    "Manufacturing, and Control (CMC) to make it more strategic and efficient. This\n",
    "article focuses on providing a step-by-step guide to the different considerations to\n",
    "be made to develop a reliable and applicable hybrid model. In addition, the article\n",
    "aims at highlighting the need for such tools in the biopharmaceutical industry and\n",
    "summarizes the works that advocate its implications. Subsequently, the key\n",
    "qualities of hybrid modeling that make it a key enabler in the\n",
    "biopharmaceutical industry are elaborated with reference to the literature\n",
    "demonstrating such qualities.\n",
    "\"\"\""
   ]
  },
  {
   "cell_type": "code",
   "execution_count": 10,
   "id": "3714f1f3",
   "metadata": {},
   "outputs": [
    {
     "name": "stderr",
     "output_type": "stream",
     "text": [
      "C:\\Users\\subhi.gupta\\AppData\\Local\\anaconda3\\envs\\torchenv\\lib\\site-packages\\torch\\nn\\modules\\module.py:1520: FutureWarning: `encoder_attention_mask` is deprecated and will be removed in version 4.55.0 for `BertSdpaSelfAttention.forward`.\n",
      "  return forward_call(*args, **kwargs)\n",
      "C:\\Users\\subhi.gupta\\AppData\\Local\\anaconda3\\envs\\torchenv\\lib\\site-packages\\transformers\\models\\bert\\modeling_bert.py:438: UserWarning: 1Torch was not compiled with flash attention. (Triggered internally at C:\\cb\\pytorch_1000000000000\\work\\aten\\src\\ATen\\native\\transformers\\cuda\\sdp_utils.cpp:263.)\n",
      "  attn_output = torch.nn.functional.scaled_dot_product_attention(\n"
     ]
    }
   ],
   "source": [
    "docs = chunker.split_text(text)"
   ]
  },
  {
   "cell_type": "code",
   "execution_count": 11,
   "id": "83f34337",
   "metadata": {},
   "outputs": [
    {
     "data": {
      "text/plain": [
       "['\\nProcess models are mathematical formulations (essentially a set of equations) that\\ntry to represent the real system/process in a digital or virtual form. These are\\nderived either based on fundamental physical laws often combined with empirical\\nassumptions or learned based on data.',\n",
       " 'The former has been existing for several\\ndecades in chemical and process engineering while the latter has recently\\nreceived a lot of attention with the emergence of several artificial intelligence/\\nmachine learning techniques. Hybrid modeling is an emerging modeling paradigm\\nthat explores the synergy between existing these two paradigms, taking advantage\\nof the existing process knowledge (or engineering know-how) and information\\ndisseminated by the collected data. Such an approach is especially suitable for\\nsystems and industries where data generation is significantly resource intensive\\nwhile at the same time fundamentally not completely deciphered such as the\\nprocesses involved in the biopharmaceutical pipeline. This technology could, in\\nfact, be the enabler to meeting the demands and goals of several initiatives such as\\nQuality by design, Process Analytical tools, and Pharma 4.0. In addition, it can aid in\\ndifferent process applications throughout process development and Chemistry,\\nManufacturing, and Control (CMC) to make it more strategic and efficient. This\\narticle focuses on providing a step-by-step guide to the different considerations to\\nbe made to develop a reliable and applicable hybrid model. In addition, the article\\naims at highlighting the need for such tools in the biopharmaceutical industry and\\nsummarizes the works that advocate its implications. Subsequently, the key\\nqualities of hybrid modeling that make it a key enabler in the\\nbiopharmaceutical industry are elaborated with reference to the literature\\ndemonstrating such qualities.']"
      ]
     },
     "execution_count": 11,
     "metadata": {},
     "output_type": "execute_result"
    }
   ],
   "source": [
    "docs"
   ]
  },
  {
   "cell_type": "code",
   "execution_count": 12,
   "id": "fd3c8e2e",
   "metadata": {},
   "outputs": [
    {
     "data": {
      "text/plain": [
       "2"
      ]
     },
     "execution_count": 12,
     "metadata": {},
     "output_type": "execute_result"
    }
   ],
   "source": [
    "len(docs)"
   ]
  },
  {
   "cell_type": "code",
   "execution_count": 25,
   "id": "9fd651bb",
   "metadata": {},
   "outputs": [
    {
     "data": {
      "text/plain": [
       "['\\nProcess models are mathematical formulations (essentially a set of equations) that\\ntry to represent the real system/process in a digital or virtual form. These are\\nderived either based on fundamental physical laws often combined with empirical\\nassumptions or learned based on data.',\n",
       " 'The former has been existing for several\\ndecades in chemical and process engineering while the latter has recently\\nreceived a lot of attention with the emergence of several artificial intelligence/\\nmachine learning techniques. Hybrid modeling is an emerging modeling paradigm\\nthat explores the synergy between existing these two paradigms, taking advantage\\nof the existing process knowledge (or engineering know-how) and information\\ndisseminated by the collected data. Such an approach is especially suitable for\\nsystems and industries where data generation is significantly resource intensive\\nwhile at the same time fundamentally not completely deciphered such as the\\nprocesses involved in the biopharmaceutical pipeline.',\n",
       " 'This technology could, in\\nfact, be the enabler to meeting the demands and goals of several initiatives such as\\nQuality by design, Process Analytical tools, and Pharma 4.0. In addition, it can aid in\\ndifferent process applications throughout process development and Chemistry,\\nManufacturing, and Control (CMC) to make it more strategic and efficient. This\\narticle focuses on providing a step-by-step guide to the different considerations to\\nbe made to develop a reliable and applicable hybrid model. In addition, the article\\naims at highlighting the need for such tools in the biopharmaceutical industry and\\nsummarizes the works that advocate its implications. Subsequently, the key\\nqualities of hybrid modeling that make it a key enabler in the\\nbiopharmaceutical industry are elaborated with reference to the literature\\ndemonstrating such qualities.']"
      ]
     },
     "execution_count": 25,
     "metadata": {},
     "output_type": "execute_result"
    }
   ],
   "source": [
    "# Create semantic chunker\n",
    "chunker = SemanticChunker(embedding, breakpoint_threshold_type=\"percentile\", min_chunk_size=100, breakpoint_threshold_amount=80.0)\n",
    "docs = chunker.split_text(text)\n",
    "docs"
   ]
  },
  {
   "cell_type": "code",
   "execution_count": 24,
   "id": "5e33c11a",
   "metadata": {},
   "outputs": [
    {
     "data": {
      "text/plain": [
       "2"
      ]
     },
     "execution_count": 24,
     "metadata": {},
     "output_type": "execute_result"
    }
   ],
   "source": [
    "len(docs)"
   ]
  },
  {
   "cell_type": "code",
   "execution_count": 28,
   "id": "63a35931",
   "metadata": {},
   "outputs": [],
   "source": [
    "text_splitter =  RecursiveCharacterTextSplitter(\n",
    "        chunk_size=900,\n",
    "        chunk_overlap=100,\n",
    "        length_function=len\n",
    "    )\n",
    "\n",
    "chunks = text_splitter.split_text(text)"
   ]
  },
  {
   "cell_type": "code",
   "execution_count": 29,
   "id": "275c95d9",
   "metadata": {},
   "outputs": [
    {
     "data": {
      "text/plain": [
       "['Process models are mathematical formulations (essentially a set of equations) that\\ntry to represent the real system/process in a digital or virtual form. These are\\nderived either based on fundamental physical laws often combined with empirical\\nassumptions or learned based on data. The former has been existing for several\\ndecades in chemical and process engineering while the latter has recently\\nreceived a lot of attention with the emergence of several artificial intelligence/\\nmachine learning techniques. Hybrid modeling is an emerging modeling paradigm\\nthat explores the synergy between existing these two paradigms, taking advantage\\nof the existing process knowledge (or engineering know-how) and information\\ndisseminated by the collected data. Such an approach is especially suitable for\\nsystems and industries where data generation is significantly resource intensive',\n",
       " 'systems and industries where data generation is significantly resource intensive\\nwhile at the same time fundamentally not completely deciphered such as the\\nprocesses involved in the biopharmaceutical pipeline. This technology could, in\\nfact, be the enabler to meeting the demands and goals of several initiatives such as\\nQuality by design, Process Analytical tools, and Pharma 4.0. In addition, it can aid in\\ndifferent process applications throughout process development and Chemistry,\\nManufacturing, and Control (CMC) to make it more strategic and efficient. This\\narticle focuses on providing a step-by-step guide to the different considerations to\\nbe made to develop a reliable and applicable hybrid model. In addition, the article\\naims at highlighting the need for such tools in the biopharmaceutical industry and\\nsummarizes the works that advocate its implications. Subsequently, the key',\n",
       " 'summarizes the works that advocate its implications. Subsequently, the key\\nqualities of hybrid modeling that make it a key enabler in the\\nbiopharmaceutical industry are elaborated with reference to the literature\\ndemonstrating such qualities.']"
      ]
     },
     "execution_count": 29,
     "metadata": {},
     "output_type": "execute_result"
    }
   ],
   "source": [
    "chunks"
   ]
  },
  {
   "cell_type": "code",
   "execution_count": 36,
   "id": "ee2fe329",
   "metadata": {},
   "outputs": [
    {
     "name": "stdout",
     "output_type": "stream",
     "text": [
      "Time taken is 0.46490228970845543 mins\n"
     ]
    }
   ],
   "source": [
    "import time\n",
    "import os\n",
    "from langchain_community.document_loaders import PyPDFLoader\n",
    "\n",
    "dataset_path = r\"D:\\Intelligent QA AI\\data\"\n",
    "all_docs = []\n",
    "\n",
    "for file in os.listdir(dataset_path):\n",
    "    if file.endswith('.pdf'): \n",
    "        \n",
    "        file_path = os.path.join(dataset_path, file)\n",
    "        loader = PyPDFLoader(file_path, mode=\"single\")\n",
    "        docs = loader.load()\n",
    "        \n",
    "        all_docs.append(docs[0])\n",
    "        \n",
    "start = time.time()\n",
    "chunker = SemanticChunker(embedding, breakpoint_threshold_type=\"percentile\", min_chunk_size=100, \n",
    "                          breakpoint_threshold_amount=80.0)\n",
    "docs = chunker.split_documents(all_docs)\n",
    "end = time.time()\n",
    "\n",
    "print(f\"Time taken is {(end-start)/60} mins\")"
   ]
  },
  {
   "cell_type": "code",
   "execution_count": 40,
   "id": "3698e020",
   "metadata": {},
   "outputs": [
    {
     "name": "stdout",
     "output_type": "stream",
     "text": [
      "Time taken is 0.052564597129821776 mins\n"
     ]
    }
   ],
   "source": [
    "start = time.time()\n",
    "vector_store = FAISS.from_documents(docs, embedding)\n",
    "end = time.time()\n",
    "\n",
    "print(f\"Time taken is {(end-start)/60} mins\")"
   ]
  },
  {
   "cell_type": "code",
   "execution_count": null,
   "id": "c138dd1e",
   "metadata": {},
   "outputs": [],
   "source": []
  }
 ],
 "metadata": {
  "kernelspec": {
   "display_name": "Python 3 (ipykernel)",
   "language": "python",
   "name": "python3"
  },
  "language_info": {
   "codemirror_mode": {
    "name": "ipython",
    "version": 3
   },
   "file_extension": ".py",
   "mimetype": "text/x-python",
   "name": "python",
   "nbconvert_exporter": "python",
   "pygments_lexer": "ipython3",
   "version": "3.9.15"
  }
 },
 "nbformat": 4,
 "nbformat_minor": 5
}
